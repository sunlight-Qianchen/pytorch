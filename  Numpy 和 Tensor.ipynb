{
 "cells": [
  {
   "cell_type": "code",
   "execution_count": 1,
   "id": "40a3aaed",
   "metadata": {},
   "outputs": [],
   "source": [
    "import torch\n",
    " \n",
    "x = torch.tensor([1,2])\n",
    "y = torch.tensor([3,4])\n",
    "z = x.add(y)"
   ]
  },
  {
   "cell_type": "code",
   "execution_count": 2,
   "id": "3b9b1538",
   "metadata": {},
   "outputs": [
    {
     "data": {
      "text/plain": [
       "tensor([4, 6])"
      ]
     },
     "execution_count": 2,
     "metadata": {},
     "output_type": "execute_result"
    }
   ],
   "source": [
    "z"
   ]
  },
  {
   "cell_type": "code",
   "execution_count": 3,
   "id": "691d27fd",
   "metadata": {},
   "outputs": [
    {
     "data": {
      "text/plain": [
       "tensor([1, 2])"
      ]
     },
     "execution_count": 3,
     "metadata": {},
     "output_type": "execute_result"
    }
   ],
   "source": [
    "x"
   ]
  },
  {
   "cell_type": "code",
   "execution_count": 4,
   "id": "612db275",
   "metadata": {},
   "outputs": [
    {
     "data": {
      "text/plain": [
       "tensor([4, 6])"
      ]
     },
     "execution_count": 4,
     "metadata": {},
     "output_type": "execute_result"
    }
   ],
   "source": [
    "x.add_(y)"
   ]
  },
  {
   "cell_type": "code",
   "execution_count": 5,
   "id": "8c10dfcc",
   "metadata": {},
   "outputs": [
    {
     "data": {
      "text/plain": [
       "tensor([4, 6])"
      ]
     },
     "execution_count": 5,
     "metadata": {},
     "output_type": "execute_result"
    }
   ],
   "source": [
    "x"
   ]
  },
  {
   "cell_type": "markdown",
   "id": "c7f32eda",
   "metadata": {},
   "source": [
    "# 创建Tensor"
   ]
  },
  {
   "cell_type": "code",
   "execution_count": 6,
   "id": "b2c37378",
   "metadata": {},
   "outputs": [
    {
     "data": {
      "text/plain": [
       "tensor([1., 2., 3., 4., 5., 6.])"
      ]
     },
     "execution_count": 6,
     "metadata": {},
     "output_type": "execute_result"
    }
   ],
   "source": [
    "#根据list数据生成tensor\n",
    "torch.Tensor([1,2,3,4,5,6])"
   ]
  },
  {
   "cell_type": "code",
   "execution_count": 7,
   "id": "39e509f2",
   "metadata": {},
   "outputs": [
    {
     "data": {
      "text/plain": [
       "tensor([[0., 0., 0.],\n",
       "        [0., 0., 0.]])"
      ]
     },
     "execution_count": 7,
     "metadata": {},
     "output_type": "execute_result"
    }
   ],
   "source": [
    "#根据指定形状生成tensor\n",
    "torch.Tensor(2,3)"
   ]
  },
  {
   "cell_type": "code",
   "execution_count": 8,
   "id": "8a500d5f",
   "metadata": {},
   "outputs": [],
   "source": [
    "#根据给定的tensor的形状\n",
    "t=torch.Tensor([[1,2,3],[4,5,6]])"
   ]
  },
  {
   "cell_type": "code",
   "execution_count": 9,
   "id": "60d378d5",
   "metadata": {},
   "outputs": [
    {
     "data": {
      "text/plain": [
       "torch.Size([2, 3])"
      ]
     },
     "execution_count": 9,
     "metadata": {},
     "output_type": "execute_result"
    }
   ],
   "source": [
    "#查看tensor的形状\n",
    "t.size()"
   ]
  },
  {
   "cell_type": "code",
   "execution_count": 10,
   "id": "b1cc33cf",
   "metadata": {},
   "outputs": [
    {
     "data": {
      "text/plain": [
       "torch.Size([2, 3])"
      ]
     },
     "execution_count": 10,
     "metadata": {},
     "output_type": "execute_result"
    }
   ],
   "source": [
    "#shape与size()等价方式\n",
    "t.shape"
   ]
  },
  {
   "cell_type": "code",
   "execution_count": 11,
   "id": "e7023927",
   "metadata": {},
   "outputs": [
    {
     "data": {
      "text/plain": [
       "tensor([[3.2913e-09, 2.5811e-06, 2.6424e+20],\n",
       "        [2.6708e+23, 5.1931e-11, 7.1450e+31]])"
      ]
     },
     "execution_count": 11,
     "metadata": {},
     "output_type": "execute_result"
    }
   ],
   "source": [
    "#根据已有形状创建tensor\n",
    "torch.Tensor(t.size())"
   ]
  },
  {
   "cell_type": "code",
   "execution_count": 12,
   "id": "b3a7f528",
   "metadata": {},
   "outputs": [
    {
     "data": {
      "text/plain": [
       "2"
      ]
     },
     "execution_count": 12,
     "metadata": {},
     "output_type": "execute_result"
    }
   ],
   "source": [
    "t.ndim"
   ]
  },
  {
   "cell_type": "markdown",
   "id": "75dc64cb",
   "metadata": {},
   "source": [
    "# torch.Tensor 与 torch.tensor 的区别"
   ]
  },
  {
   "cell_type": "code",
   "execution_count": 13,
   "id": "5bb0010c",
   "metadata": {},
   "outputs": [
    {
     "name": "stdout",
     "output_type": "stream",
     "text": [
      "t1的值tensor([0.]),t1的数据类型torch.FloatTensor\n",
      "t2的值1,t2的数据类型torch.LongTensor\n"
     ]
    }
   ],
   "source": [
    "t1 = torch.Tensor(1)\n",
    "t2 = torch.tensor(1)\n",
    "print(\"t1的值{},t1的数据类型{}\".format(t1,t1.type()))\n",
    "print(\"t2的值{},t2的数据类型{}\".format(t2,t2.type()))"
   ]
  },
  {
   "cell_type": "code",
   "execution_count": 14,
   "id": "da20070b",
   "metadata": {},
   "outputs": [
    {
     "data": {
      "text/plain": [
       "tensor([[1., 0.],\n",
       "        [0., 1.]])"
      ]
     },
     "execution_count": 14,
     "metadata": {},
     "output_type": "execute_result"
    }
   ],
   "source": [
    "#生成一个单位矩阵\n",
    "torch.eye(2,2)"
   ]
  },
  {
   "cell_type": "code",
   "execution_count": 15,
   "id": "cac4f112",
   "metadata": {},
   "outputs": [
    {
     "data": {
      "text/plain": [
       "tensor([[0., 0., 0.],\n",
       "        [0., 0., 0.]])"
      ]
     },
     "execution_count": 15,
     "metadata": {},
     "output_type": "execute_result"
    }
   ],
   "source": [
    "#自动生成全是0的矩阵\n",
    "torch.zeros(2,3)"
   ]
  },
  {
   "cell_type": "code",
   "execution_count": 16,
   "id": "14157ac8",
   "metadata": {},
   "outputs": [
    {
     "data": {
      "text/plain": [
       "tensor([ 1.,  4.,  7., 10.])"
      ]
     },
     "execution_count": 16,
     "metadata": {},
     "output_type": "execute_result"
    }
   ],
   "source": [
    "#根据规则生成数据\n",
    "torch.linspace(1,10,4)"
   ]
  },
  {
   "cell_type": "code",
   "execution_count": 17,
   "id": "9316a141",
   "metadata": {},
   "outputs": [
    {
     "data": {
      "text/plain": [
       "tensor([[0.5118, 0.2707, 0.4509],\n",
       "        [0.9465, 0.7670, 0.5807]])"
      ]
     },
     "execution_count": 17,
     "metadata": {},
     "output_type": "execute_result"
    }
   ],
   "source": [
    "#生成满足均匀分布随机数\n",
    "torch.rand(2,3)"
   ]
  },
  {
   "cell_type": "code",
   "execution_count": 18,
   "id": "d775ff31",
   "metadata": {},
   "outputs": [
    {
     "data": {
      "text/plain": [
       "tensor([[ 1.5981,  0.3895, -1.9307],\n",
       "        [-0.2123, -0.9752, -0.1488]])"
      ]
     },
     "execution_count": 18,
     "metadata": {},
     "output_type": "execute_result"
    }
   ],
   "source": [
    "#生成满足标准分布随机数\n",
    "torch.randn(2,3)"
   ]
  },
  {
   "cell_type": "code",
   "execution_count": 19,
   "id": "4794cb70",
   "metadata": {},
   "outputs": [
    {
     "data": {
      "text/plain": [
       "tensor([[0., 0., 0.],\n",
       "        [0., 0., 0.]])"
      ]
     },
     "execution_count": 19,
     "metadata": {},
     "output_type": "execute_result"
    }
   ],
   "source": [
    "#返回所给数据形状相同，值全为0的张量\n",
    "torch.zeros_like(torch.rand(2,3))"
   ]
  },
  {
   "cell_type": "markdown",
   "id": "61a73359",
   "metadata": {},
   "source": [
    "# 修改Tensor形状"
   ]
  },
  {
   "cell_type": "code",
   "execution_count": 20,
   "id": "e97c5921",
   "metadata": {},
   "outputs": [],
   "source": [
    "#生成一个形状为2x3的矩阵\n",
    "x = torch.randn(2, 3)"
   ]
  },
  {
   "cell_type": "code",
   "execution_count": 21,
   "id": "4d77f3f9",
   "metadata": {},
   "outputs": [
    {
     "data": {
      "text/plain": [
       "torch.Size([2, 3])"
      ]
     },
     "execution_count": 21,
     "metadata": {},
     "output_type": "execute_result"
    }
   ],
   "source": [
    "#查看矩阵的形状\n",
    "x.size()   #结果为torch.Size([2, 3])"
   ]
  },
  {
   "cell_type": "code",
   "execution_count": 22,
   "id": "4c3278be",
   "metadata": {},
   "outputs": [
    {
     "data": {
      "text/plain": [
       "2"
      ]
     },
     "execution_count": 22,
     "metadata": {},
     "output_type": "execute_result"
    }
   ],
   "source": [
    "#查看x的维度\n",
    "x.dim()    #结果为2"
   ]
  },
  {
   "cell_type": "code",
   "execution_count": 23,
   "id": "f5fc0d66",
   "metadata": {},
   "outputs": [
    {
     "data": {
      "text/plain": [
       "tensor([[ 0.9137, -0.0807],\n",
       "        [ 0.3545, -0.7080],\n",
       "        [ 0.0662,  1.4123]])"
      ]
     },
     "execution_count": 23,
     "metadata": {},
     "output_type": "execute_result"
    }
   ],
   "source": [
    "#把x变为3x2的矩阵\n",
    "x.view(3,2)"
   ]
  },
  {
   "cell_type": "code",
   "execution_count": 27,
   "id": "e196be7f",
   "metadata": {},
   "outputs": [
    {
     "data": {
      "text/plain": [
       "torch.Size([6])"
      ]
     },
     "execution_count": 27,
     "metadata": {},
     "output_type": "execute_result"
    }
   ],
   "source": [
    "#把x展平为1维向量\n",
    "y=x.view(-1) \n",
    "y.shape"
   ]
  },
  {
   "cell_type": "code",
   "execution_count": 28,
   "id": "cd48239c",
   "metadata": {},
   "outputs": [],
   "source": [
    "#添加一个维度\n",
    "z=torch.unsqueeze(y,0)"
   ]
  },
  {
   "cell_type": "code",
   "execution_count": 29,
   "id": "7d115295",
   "metadata": {},
   "outputs": [
    {
     "data": {
      "text/plain": [
       "torch.Size([1, 6])"
      ]
     },
     "execution_count": 29,
     "metadata": {},
     "output_type": "execute_result"
    }
   ],
   "source": [
    "#查看z的形状\n",
    "z.size()   #结果为torch.Size([1, 6])"
   ]
  },
  {
   "cell_type": "code",
   "execution_count": 31,
   "id": "77ef37a3",
   "metadata": {},
   "outputs": [
    {
     "data": {
      "text/plain": [
       "tensor([[ 0.9137, -0.0807,  0.3545, -0.7080,  0.0662,  1.4123]])"
      ]
     },
     "execution_count": 31,
     "metadata": {},
     "output_type": "execute_result"
    }
   ],
   "source": [
    "z"
   ]
  },
  {
   "cell_type": "code",
   "execution_count": 30,
   "id": "4fd2453c",
   "metadata": {},
   "outputs": [
    {
     "data": {
      "text/plain": [
       "6"
      ]
     },
     "execution_count": 30,
     "metadata": {},
     "output_type": "execute_result"
    }
   ],
   "source": [
    "#计算Z的元素个数\n",
    "z.numel()   #结果为6"
   ]
  },
  {
   "cell_type": "markdown",
   "id": "24564bdd",
   "metadata": {},
   "source": [
    "# 索引操作"
   ]
  },
  {
   "cell_type": "code",
   "execution_count": 32,
   "id": "c68e5b30",
   "metadata": {},
   "outputs": [
    {
     "data": {
      "text/plain": [
       "<torch._C.Generator at 0x1e2db7e0c30>"
      ]
     },
     "execution_count": 32,
     "metadata": {},
     "output_type": "execute_result"
    }
   ],
   "source": [
    "#设置一个随机种子\n",
    "torch.manual_seed(100) "
   ]
  },
  {
   "cell_type": "code",
   "execution_count": 33,
   "id": "ed730be5",
   "metadata": {},
   "outputs": [],
   "source": [
    "#生成一个形状为2x3的矩阵\n",
    "x = torch.randn(2, 3)"
   ]
  },
  {
   "cell_type": "code",
   "execution_count": 35,
   "id": "da741846",
   "metadata": {},
   "outputs": [
    {
     "data": {
      "text/plain": [
       "tensor([[ 0.3607, -0.2859, -0.3938],\n",
       "        [ 0.2429, -1.3833, -2.3134]])"
      ]
     },
     "execution_count": 35,
     "metadata": {},
     "output_type": "execute_result"
    }
   ],
   "source": [
    "x"
   ]
  },
  {
   "cell_type": "code",
   "execution_count": 34,
   "id": "24fd5c9b",
   "metadata": {},
   "outputs": [
    {
     "data": {
      "text/plain": [
       "tensor([ 0.3607, -0.2859, -0.3938])"
      ]
     },
     "execution_count": 34,
     "metadata": {},
     "output_type": "execute_result"
    }
   ],
   "source": [
    "#根据索引获取第1行，所有数据\n",
    "x[0,:]"
   ]
  },
  {
   "cell_type": "code",
   "execution_count": 36,
   "id": "b2c2dfbb",
   "metadata": {},
   "outputs": [
    {
     "data": {
      "text/plain": [
       "tensor([-0.3938, -2.3134])"
      ]
     },
     "execution_count": 36,
     "metadata": {},
     "output_type": "execute_result"
    }
   ],
   "source": [
    "#获取最后一列数据\n",
    "x[:,-1]"
   ]
  },
  {
   "cell_type": "code",
   "execution_count": 37,
   "id": "abd74cd9",
   "metadata": {},
   "outputs": [],
   "source": [
    "#生成是否大于0的Byter张量\n",
    "mask=x>0"
   ]
  },
  {
   "cell_type": "code",
   "execution_count": 38,
   "id": "d4f2516a",
   "metadata": {},
   "outputs": [
    {
     "data": {
      "text/plain": [
       "tensor([[ True, False, False],\n",
       "        [ True, False, False]])"
      ]
     },
     "execution_count": 38,
     "metadata": {},
     "output_type": "execute_result"
    }
   ],
   "source": [
    "mask"
   ]
  },
  {
   "cell_type": "code",
   "execution_count": 39,
   "id": "5f638abb",
   "metadata": {},
   "outputs": [
    {
     "data": {
      "text/plain": [
       "tensor([0.3607, 0.2429])"
      ]
     },
     "execution_count": 39,
     "metadata": {},
     "output_type": "execute_result"
    }
   ],
   "source": [
    "#获取大于0的值\n",
    "torch.masked_select(x,mask)"
   ]
  },
  {
   "cell_type": "code",
   "execution_count": 40,
   "id": "32839221",
   "metadata": {},
   "outputs": [
    {
     "data": {
      "text/plain": [
       "tensor([[0, 0],\n",
       "        [1, 0]])"
      ]
     },
     "execution_count": 40,
     "metadata": {},
     "output_type": "execute_result"
    }
   ],
   "source": [
    "#获取非0下标,即行，列索引\n",
    "torch.nonzero(mask)"
   ]
  },
  {
   "cell_type": "code",
   "execution_count": 41,
   "id": "5fe60d76",
   "metadata": {},
   "outputs": [
    {
     "data": {
      "text/plain": [
       "tensor([[ 0.3607, -1.3833, -2.3134]])"
      ]
     },
     "execution_count": 41,
     "metadata": {},
     "output_type": "execute_result"
    }
   ],
   "source": [
    "index=torch.LongTensor([[0,1,1]])\n",
    "torch.gather(x,0,index)"
   ]
  },
  {
   "cell_type": "code",
   "execution_count": 42,
   "id": "4229de4c",
   "metadata": {},
   "outputs": [],
   "source": [
    "index=torch.LongTensor([[0,1,1],[1,1,1]])\n",
    "a=torch.gather(x,1,index)"
   ]
  },
  {
   "cell_type": "code",
   "execution_count": 45,
   "id": "bc97e1b6",
   "metadata": {},
   "outputs": [
    {
     "data": {
      "text/plain": [
       "tensor([[0, 1, 1],\n",
       "        [1, 1, 1]])"
      ]
     },
     "execution_count": 45,
     "metadata": {},
     "output_type": "execute_result"
    }
   ],
   "source": [
    "index"
   ]
  },
  {
   "cell_type": "code",
   "execution_count": 43,
   "id": "40f72683",
   "metadata": {},
   "outputs": [
    {
     "data": {
      "text/plain": [
       "tensor([[ 0.3607, -0.2859, -0.2859],\n",
       "        [-1.3833, -1.3833, -1.3833]])"
      ]
     },
     "execution_count": 43,
     "metadata": {},
     "output_type": "execute_result"
    }
   ],
   "source": [
    "a"
   ]
  },
  {
   "cell_type": "code",
   "execution_count": 44,
   "id": "6de3e95a",
   "metadata": {},
   "outputs": [
    {
     "data": {
      "text/plain": [
       "tensor([[ 0.3607, -0.2859,  0.0000],\n",
       "        [ 0.0000, -1.3833,  0.0000]])"
      ]
     },
     "execution_count": 44,
     "metadata": {},
     "output_type": "execute_result"
    }
   ],
   "source": [
    "#把a的值返回到一个2x3的0矩阵中\n",
    "z=torch.zeros(2,3)\n",
    "z.scatter_(1,index,a)"
   ]
  },
  {
   "cell_type": "markdown",
   "id": "b17d9f39",
   "metadata": {},
   "source": [
    "# 逐元素操作"
   ]
  },
  {
   "cell_type": "code",
   "execution_count": 46,
   "id": "c0597e3b",
   "metadata": {},
   "outputs": [],
   "source": [
    "t = torch.randn(1, 3)\n",
    "t1 = torch.randn(3, 1)\n",
    "t2 = torch.randn(1, 3)"
   ]
  },
  {
   "cell_type": "code",
   "execution_count": 47,
   "id": "008c8b46",
   "metadata": {},
   "outputs": [
    {
     "data": {
      "text/plain": [
       "tensor([[-0.3172, -0.8660,  1.7482]])"
      ]
     },
     "execution_count": 47,
     "metadata": {},
     "output_type": "execute_result"
    }
   ],
   "source": [
    "t"
   ]
  },
  {
   "cell_type": "code",
   "execution_count": 48,
   "id": "613f1d12",
   "metadata": {},
   "outputs": [
    {
     "data": {
      "text/plain": [
       "tensor([[-0.2759],\n",
       "        [-0.9755],\n",
       "        [ 0.4790]])"
      ]
     },
     "execution_count": 48,
     "metadata": {},
     "output_type": "execute_result"
    }
   ],
   "source": [
    "t1"
   ]
  },
  {
   "cell_type": "code",
   "execution_count": 49,
   "id": "0996b510",
   "metadata": {},
   "outputs": [
    {
     "data": {
      "text/plain": [
       "tensor([[-2.3652, -0.8047,  0.6587]])"
      ]
     },
     "execution_count": 49,
     "metadata": {},
     "output_type": "execute_result"
    }
   ],
   "source": [
    "t2"
   ]
  },
  {
   "cell_type": "code",
   "execution_count": 50,
   "id": "6b2284fd",
   "metadata": {},
   "outputs": [
    {
     "name": "stderr",
     "output_type": "stream",
     "text": [
      "C:\\Users\\Li\\AppData\\Local\\Temp\\ipykernel_11632\\2800451954.py:2: UserWarning: This overload of addcdiv is deprecated:\n",
      "\taddcdiv(Tensor input, Number value, Tensor tensor1, Tensor tensor2, *, Tensor out)\n",
      "Consider using one of the following signatures instead:\n",
      "\taddcdiv(Tensor input, Tensor tensor1, Tensor tensor2, *, Number value, Tensor out) (Triggered internally at  C:\\actions-runner\\_work\\pytorch\\pytorch\\builder\\windows\\pytorch\\torch\\csrc\\utils\\python_arg_parser.cpp:1055.)\n",
      "  torch.addcdiv(t, 0.1, t1, t2)\n"
     ]
    },
    {
     "data": {
      "text/plain": [
       "tensor([[-0.3055, -0.8318,  1.7063],\n",
       "        [-0.2760, -0.7448,  1.6001],\n",
       "        [-0.3374, -0.9256,  1.8209]])"
      ]
     },
     "execution_count": 50,
     "metadata": {},
     "output_type": "execute_result"
    }
   ],
   "source": [
    "#t+0.1*(t1/t2)\n",
    "torch.addcdiv(t, 0.1, t1, t2)"
   ]
  },
  {
   "cell_type": "code",
   "execution_count": 51,
   "id": "3a97af81",
   "metadata": {},
   "outputs": [
    {
     "data": {
      "text/plain": [
       "tensor([[0.4214, 0.2961, 0.8517]])"
      ]
     },
     "execution_count": 51,
     "metadata": {},
     "output_type": "execute_result"
    }
   ],
   "source": [
    "#计算sigmoid\n",
    "torch.sigmoid(t)"
   ]
  },
  {
   "cell_type": "code",
   "execution_count": 52,
   "id": "94db5705",
   "metadata": {},
   "outputs": [
    {
     "data": {
      "text/plain": [
       "tensor([[0., 0., 1.]])"
      ]
     },
     "execution_count": 52,
     "metadata": {},
     "output_type": "execute_result"
    }
   ],
   "source": [
    "#将t限制在[0,1]之间\n",
    "torch.clamp(t,0,1)"
   ]
  },
  {
   "cell_type": "code",
   "execution_count": 53,
   "id": "84f6d099",
   "metadata": {},
   "outputs": [
    {
     "data": {
      "text/plain": [
       "tensor([[1.6828, 1.1340, 3.7482]])"
      ]
     },
     "execution_count": 53,
     "metadata": {},
     "output_type": "execute_result"
    }
   ],
   "source": [
    "#t+2进行就地运算\n",
    "t.add_(2)"
   ]
  },
  {
   "cell_type": "markdown",
   "id": "f736faec",
   "metadata": {},
   "source": [
    "# 归并操作"
   ]
  },
  {
   "cell_type": "code",
   "execution_count": 59,
   "id": "ff8182d6",
   "metadata": {},
   "outputs": [],
   "source": [
    "#生成一个含6个数的向量\n",
    "a=torch.linspace(0,10,6)"
   ]
  },
  {
   "cell_type": "code",
   "execution_count": 60,
   "id": "8c1aac31",
   "metadata": {},
   "outputs": [
    {
     "data": {
      "text/plain": [
       "tensor([ 0.,  2.,  4.,  6.,  8., 10.])"
      ]
     },
     "execution_count": 60,
     "metadata": {},
     "output_type": "execute_result"
    }
   ],
   "source": [
    "a"
   ]
  },
  {
   "cell_type": "code",
   "execution_count": 61,
   "id": "b7d36030",
   "metadata": {},
   "outputs": [],
   "source": [
    "#使用view方法，把a变为2x3矩阵\n",
    "a=a.view((2,3))"
   ]
  },
  {
   "cell_type": "code",
   "execution_count": 62,
   "id": "23fa41ab",
   "metadata": {},
   "outputs": [
    {
     "data": {
      "text/plain": [
       "tensor([[ 0.,  2.,  4.],\n",
       "        [ 6.,  8., 10.]])"
      ]
     },
     "execution_count": 62,
     "metadata": {},
     "output_type": "execute_result"
    }
   ],
   "source": [
    "a"
   ]
  },
  {
   "cell_type": "code",
   "execution_count": 63,
   "id": "ce058366",
   "metadata": {},
   "outputs": [],
   "source": [
    "#沿y轴方向累加，即dim=0\n",
    "b=a.sum(dim=0)   #b的形状为[3]"
   ]
  },
  {
   "cell_type": "code",
   "execution_count": 64,
   "id": "4ed8a60f",
   "metadata": {},
   "outputs": [
    {
     "data": {
      "text/plain": [
       "tensor([ 6., 10., 14.])"
      ]
     },
     "execution_count": 64,
     "metadata": {},
     "output_type": "execute_result"
    }
   ],
   "source": [
    "b"
   ]
  },
  {
   "cell_type": "code",
   "execution_count": 65,
   "id": "c205e34b",
   "metadata": {},
   "outputs": [],
   "source": [
    "#沿y轴方向累加，即dim=0,并保留含1的维度\n",
    "b=a.sum(dim=0,keepdim=True) #b的形状为[1,3]"
   ]
  },
  {
   "cell_type": "code",
   "execution_count": 66,
   "id": "4a5a59f4",
   "metadata": {},
   "outputs": [
    {
     "data": {
      "text/plain": [
       "tensor([[ 6., 10., 14.]])"
      ]
     },
     "execution_count": 66,
     "metadata": {},
     "output_type": "execute_result"
    }
   ],
   "source": [
    "b"
   ]
  },
  {
   "cell_type": "markdown",
   "id": "58029ff6",
   "metadata": {},
   "source": [
    "# 比较操作"
   ]
  },
  {
   "cell_type": "code",
   "execution_count": 67,
   "id": "b8e07805",
   "metadata": {},
   "outputs": [],
   "source": [
    "x=torch.linspace(0,10,6).view(2,3)"
   ]
  },
  {
   "cell_type": "code",
   "execution_count": 71,
   "id": "b74933ed",
   "metadata": {},
   "outputs": [
    {
     "data": {
      "text/plain": [
       "tensor([[ 0.,  2.,  4.],\n",
       "        [ 6.,  8., 10.]])"
      ]
     },
     "execution_count": 71,
     "metadata": {},
     "output_type": "execute_result"
    }
   ],
   "source": [
    "x"
   ]
  },
  {
   "cell_type": "code",
   "execution_count": 68,
   "id": "7c6aa5f7",
   "metadata": {},
   "outputs": [
    {
     "data": {
      "text/plain": [
       "tensor(10.)"
      ]
     },
     "execution_count": 68,
     "metadata": {},
     "output_type": "execute_result"
    }
   ],
   "source": [
    "#求所有元素的最大值\n",
    "torch.max(x)   #结果为10"
   ]
  },
  {
   "cell_type": "code",
   "execution_count": 69,
   "id": "8a1535bd",
   "metadata": {},
   "outputs": [
    {
     "data": {
      "text/plain": [
       "torch.return_types.max(\n",
       "values=tensor([ 6.,  8., 10.]),\n",
       "indices=tensor([1, 1, 1]))"
      ]
     },
     "execution_count": 69,
     "metadata": {},
     "output_type": "execute_result"
    }
   ],
   "source": [
    "#求y轴方向的最大值\n",
    "torch.max(x,dim=0)  #结果为[6,8,10]"
   ]
  },
  {
   "cell_type": "code",
   "execution_count": 72,
   "id": "bc13dfa7",
   "metadata": {},
   "outputs": [
    {
     "data": {
      "text/plain": [
       "torch.return_types.topk(\n",
       "values=tensor([[ 6.,  8., 10.]]),\n",
       "indices=tensor([[1, 1, 1]]))"
      ]
     },
     "execution_count": 72,
     "metadata": {},
     "output_type": "execute_result"
    }
   ],
   "source": [
    "#求最大的2个元素\n",
    "torch.topk(x,1,dim=0)  #结果为[6,8,10],对应索引为tensor([[1, 1, 1]"
   ]
  },
  {
   "cell_type": "markdown",
   "id": "4d5a6963",
   "metadata": {},
   "source": [
    "# 矩阵操作"
   ]
  },
  {
   "cell_type": "code",
   "execution_count": 73,
   "id": "4c4c1e35",
   "metadata": {},
   "outputs": [],
   "source": [
    "a=torch.tensor([2, 3])\n",
    "b=torch.tensor([3, 4])"
   ]
  },
  {
   "cell_type": "code",
   "execution_count": 74,
   "id": "5f4f870d",
   "metadata": {},
   "outputs": [
    {
     "data": {
      "text/plain": [
       "tensor([2, 3])"
      ]
     },
     "execution_count": 74,
     "metadata": {},
     "output_type": "execute_result"
    }
   ],
   "source": [
    "a"
   ]
  },
  {
   "cell_type": "code",
   "execution_count": 75,
   "id": "70eec33f",
   "metadata": {},
   "outputs": [
    {
     "data": {
      "text/plain": [
       "tensor([3, 4])"
      ]
     },
     "execution_count": 75,
     "metadata": {},
     "output_type": "execute_result"
    }
   ],
   "source": [
    "b"
   ]
  },
  {
   "cell_type": "code",
   "execution_count": 76,
   "id": "fccc12e7",
   "metadata": {},
   "outputs": [
    {
     "data": {
      "text/plain": [
       "tensor(18)"
      ]
     },
     "execution_count": 76,
     "metadata": {},
     "output_type": "execute_result"
    }
   ],
   "source": [
    "torch.dot(a,b)  #运行结果为18"
   ]
  },
  {
   "cell_type": "code",
   "execution_count": 77,
   "id": "1f4bcb46",
   "metadata": {},
   "outputs": [],
   "source": [
    "x=torch.randint(10,(2,3))\n",
    "y=torch.randint(6,(3,4))"
   ]
  },
  {
   "cell_type": "code",
   "execution_count": 78,
   "id": "f929181e",
   "metadata": {},
   "outputs": [
    {
     "data": {
      "text/plain": [
       "tensor([[0, 9, 5],\n",
       "        [7, 3, 9]])"
      ]
     },
     "execution_count": 78,
     "metadata": {},
     "output_type": "execute_result"
    }
   ],
   "source": [
    "x"
   ]
  },
  {
   "cell_type": "code",
   "execution_count": 79,
   "id": "7110dccb",
   "metadata": {},
   "outputs": [
    {
     "data": {
      "text/plain": [
       "tensor([[2, 2, 3, 5],\n",
       "        [3, 3, 3, 3],\n",
       "        [1, 3, 0, 1]])"
      ]
     },
     "execution_count": 79,
     "metadata": {},
     "output_type": "execute_result"
    }
   ],
   "source": [
    "y"
   ]
  },
  {
   "cell_type": "code",
   "execution_count": 80,
   "id": "0935a83b",
   "metadata": {},
   "outputs": [
    {
     "data": {
      "text/plain": [
       "tensor([[32, 42, 27, 32],\n",
       "        [32, 50, 30, 53]])"
      ]
     },
     "execution_count": 80,
     "metadata": {},
     "output_type": "execute_result"
    }
   ],
   "source": [
    "torch.mm(x,y)"
   ]
  },
  {
   "cell_type": "code",
   "execution_count": 81,
   "id": "7f9e3725",
   "metadata": {},
   "outputs": [],
   "source": [
    "x=torch.randint(10,(2,2,3))\n",
    "y=torch.randint(6,(2,3,4))"
   ]
  },
  {
   "cell_type": "code",
   "execution_count": 82,
   "id": "efd8d35a",
   "metadata": {},
   "outputs": [
    {
     "data": {
      "text/plain": [
       "tensor([[[7, 9, 2],\n",
       "         [6, 7, 7]],\n",
       "\n",
       "        [[8, 3, 6],\n",
       "         [1, 5, 5]]])"
      ]
     },
     "execution_count": 82,
     "metadata": {},
     "output_type": "execute_result"
    }
   ],
   "source": [
    "x"
   ]
  },
  {
   "cell_type": "code",
   "execution_count": 83,
   "id": "cf224c71",
   "metadata": {},
   "outputs": [
    {
     "data": {
      "text/plain": [
       "tensor([[[4, 4, 3, 0],\n",
       "         [0, 5, 1, 3],\n",
       "         [0, 2, 0, 0]],\n",
       "\n",
       "        [[0, 4, 3, 0],\n",
       "         [5, 2, 5, 2],\n",
       "         [0, 5, 3, 0]]])"
      ]
     },
     "execution_count": 83,
     "metadata": {},
     "output_type": "execute_result"
    }
   ],
   "source": [
    "y"
   ]
  },
  {
   "cell_type": "code",
   "execution_count": 84,
   "id": "cc901543",
   "metadata": {},
   "outputs": [
    {
     "data": {
      "text/plain": [
       "tensor([[[28, 77, 30, 27],\n",
       "         [24, 73, 25, 21]],\n",
       "\n",
       "        [[15, 68, 57,  6],\n",
       "         [25, 39, 43, 10]]])"
      ]
     },
     "execution_count": 84,
     "metadata": {},
     "output_type": "execute_result"
    }
   ],
   "source": [
    "torch.bmm(x,y)"
   ]
  },
  {
   "cell_type": "markdown",
   "id": "a3256ee6",
   "metadata": {},
   "source": [
    "#  Tensor与Autograd"
   ]
  },
  {
   "cell_type": "markdown",
   "id": "855d65ef",
   "metadata": {},
   "source": [
    "## 标量反向传播"
   ]
  },
  {
   "cell_type": "markdown",
   "id": "3a76d721",
   "metadata": {},
   "source": [
    "### 定义叶子节点及算子节点"
   ]
  },
  {
   "cell_type": "code",
   "execution_count": 85,
   "id": "4f9d228f",
   "metadata": {},
   "outputs": [],
   "source": [
    "import torch\n",
    " \n",
    "#定义输入张量x\n",
    "x=torch.Tensor([2])"
   ]
  },
  {
   "cell_type": "code",
   "execution_count": 86,
   "id": "dcec97bf",
   "metadata": {},
   "outputs": [
    {
     "data": {
      "text/plain": [
       "tensor([2.])"
      ]
     },
     "execution_count": 86,
     "metadata": {},
     "output_type": "execute_result"
    }
   ],
   "source": [
    "x"
   ]
  },
  {
   "cell_type": "code",
   "execution_count": 87,
   "id": "e4e64fe2",
   "metadata": {},
   "outputs": [],
   "source": [
    "#初始化权重参数W,偏移量b、并设置require_grad属性为True，为自动求导\n",
    "w=torch.randn(1,requires_grad=True)\n",
    "b=torch.randn(1,requires_grad=True)"
   ]
  },
  {
   "cell_type": "code",
   "execution_count": 88,
   "id": "2ea9f049",
   "metadata": {},
   "outputs": [
    {
     "data": {
      "text/plain": [
       "tensor([-0.2586], requires_grad=True)"
      ]
     },
     "execution_count": 88,
     "metadata": {},
     "output_type": "execute_result"
    }
   ],
   "source": [
    "w"
   ]
  },
  {
   "cell_type": "code",
   "execution_count": 89,
   "id": "f5d4318d",
   "metadata": {},
   "outputs": [
    {
     "data": {
      "text/plain": [
       "tensor([0.3408], requires_grad=True)"
      ]
     },
     "execution_count": 89,
     "metadata": {},
     "output_type": "execute_result"
    }
   ],
   "source": [
    "b"
   ]
  },
  {
   "cell_type": "code",
   "execution_count": 90,
   "id": "80e09a98",
   "metadata": {},
   "outputs": [],
   "source": [
    "#实现前向传播\n",
    "y=torch.mul(w,x)  #等价于w*x\n",
    "z=torch.add(y,b)  #等价于y+b"
   ]
  },
  {
   "cell_type": "code",
   "execution_count": 91,
   "id": "9a2fb364",
   "metadata": {},
   "outputs": [
    {
     "name": "stdout",
     "output_type": "stream",
     "text": [
      "x,w,b的require_grad属性分别为：False,True,True\n"
     ]
    }
   ],
   "source": [
    "#查看x,w，b页子节点的requite_grad属性\n",
    "print(\"x,w,b的require_grad属性分别为：{},{},{}\".format(x.requires_grad,w.requires_grad,b.requires_grad))"
   ]
  },
  {
   "cell_type": "markdown",
   "id": "a5d9e345",
   "metadata": {},
   "source": [
    "### 查看叶子节点、非叶子节点的其他属性"
   ]
  },
  {
   "cell_type": "code",
   "execution_count": 92,
   "id": "36f789b5",
   "metadata": {},
   "outputs": [
    {
     "name": "stdout",
     "output_type": "stream",
     "text": [
      "y，z的requires_grad属性分别为：True,True\n",
      "x，w，b，y，z的是否为叶子节点：True,True,True,False,False\n",
      "x，w，b的grad_fn属性：None,None,None\n",
      "y，z的是否为叶子节点：<MulBackward0 object at 0x000001E2E0F3C6D0>,<AddBackward0 object at 0x000001E2E0C3B370>\n"
     ]
    }
   ],
   "source": [
    "#查看非叶子节点的requres_grad属性,\n",
    "print(\"y，z的requires_grad属性分别为：{},{}\".format(y.requires_grad,z.requires_grad))\n",
    "#因与w，b有依赖关系，故y，z的requires_grad属性也是：True,True\n",
    "#查看各节点是否为叶子节点\n",
    "print(\"x，w，b，y，z的是否为叶子节点：{},{},{},{},{}\".format(x.is_leaf,w.is_leaf,b.is_leaf,y.is_leaf,z.is_leaf))\n",
    "#x，w，b，y，z的是否为叶子节点：True,True,True,False,False\n",
    "#查看叶子节点的grad_fn属性\n",
    "print(\"x，w，b的grad_fn属性：{},{},{}\".format(x.grad_fn,w.grad_fn,b.grad_fn))\n",
    "#因x，w，b为用户创建的，为通过其他张量计算得到，故x，w，b的grad_fn属性：None,None,None\n",
    "#查看非叶子节点的grad_fn属性\n",
    "print(\"y，z的是否为叶子节点：{},{}\".format(y.grad_fn,z.grad_fn))\n",
    "#y，z的是否为叶子节点：,"
   ]
  },
  {
   "cell_type": "markdown",
   "id": "00ed5573",
   "metadata": {},
   "source": [
    "### 自动求导，实现梯度方向传播，即梯度的反向传播"
   ]
  },
  {
   "cell_type": "code",
   "execution_count": 93,
   "id": "f26e448a",
   "metadata": {},
   "outputs": [
    {
     "name": "stdout",
     "output_type": "stream",
     "text": [
      "参数w,b的梯度分别为:tensor([2.]),tensor([1.]),None\n",
      "非叶子节点y,z的梯度分别为:None,None\n"
     ]
    },
    {
     "name": "stderr",
     "output_type": "stream",
     "text": [
      "D:\\ANACONDA\\envs\\pytorch\\lib\\site-packages\\torch\\_tensor.py:1104: UserWarning: The .grad attribute of a Tensor that is not a leaf Tensor is being accessed. Its .grad attribute won't be populated during autograd.backward(). If you indeed want the .grad field to be populated for a non-leaf Tensor, use .retain_grad() on the non-leaf Tensor. If you access the non-leaf Tensor by mistake, make sure you access the leaf Tensor instead. See github.com/pytorch/pytorch/pull/30531 for more informations. (Triggered internally at  C:\\actions-runner\\_work\\pytorch\\pytorch\\builder\\windows\\pytorch\\build\\aten\\src\\ATen/core/TensorBody.h:475.)\n",
      "  return self._grad\n"
     ]
    }
   ],
   "source": [
    "#基于z张量进行梯度反向传播,执行backward之后计算图会自动清空，\n",
    "z.backward()\n",
    "#如果需要多次使用backward，需要修改参数retain_graph为True，此时梯度是累加的\n",
    "#z.backward(retain_graph=True)\n",
    " \n",
    "#查看叶子节点的梯度，x是叶子节点但它无需求导，故其梯度为None\n",
    "print(\"参数w,b的梯度分别为:{},{},{}\".format(w.grad,b.grad,x.grad))\n",
    "#参数w,b的梯度分别为:tensor([2.]),tensor([1.]),None\n",
    " \n",
    "#非叶子节点的梯度，执行backward之后，会自动清空\n",
    "print(\"非叶子节点y,z的梯度分别为:{},{}\".format(y.grad,z.grad))\n",
    "#非叶子节点y,z的梯度分别为:None,None"
   ]
  },
  {
   "cell_type": "markdown",
   "id": "4925366f",
   "metadata": {},
   "source": [
    "## 非标量反向传播"
   ]
  },
  {
   "cell_type": "markdown",
   "id": "f79013f3",
   "metadata": {},
   "source": [
    "### 定义叶子叶子节点及计算节点"
   ]
  },
  {
   "cell_type": "code",
   "execution_count": 134,
   "id": "2db46eee",
   "metadata": {},
   "outputs": [],
   "source": [
    "#定义叶子节点张量x，形状为1x2\n",
    "x= torch.tensor([[2, 3]], dtype=torch.float, requires_grad=True)"
   ]
  },
  {
   "cell_type": "code",
   "execution_count": 135,
   "id": "fe7488a2",
   "metadata": {},
   "outputs": [
    {
     "data": {
      "text/plain": [
       "tensor([[2., 3.]], requires_grad=True)"
      ]
     },
     "execution_count": 135,
     "metadata": {},
     "output_type": "execute_result"
    }
   ],
   "source": [
    "x"
   ]
  },
  {
   "cell_type": "code",
   "execution_count": 136,
   "id": "485f96fe",
   "metadata": {},
   "outputs": [],
   "source": [
    "#初始化Jacobian矩阵\n",
    "J= torch.zeros(2 ,2)"
   ]
  },
  {
   "cell_type": "code",
   "execution_count": 137,
   "id": "69d68398",
   "metadata": {},
   "outputs": [
    {
     "data": {
      "text/plain": [
       "tensor([[0., 0.],\n",
       "        [0., 0.]])"
      ]
     },
     "execution_count": 137,
     "metadata": {},
     "output_type": "execute_result"
    }
   ],
   "source": [
    "J"
   ]
  },
  {
   "cell_type": "code",
   "execution_count": 138,
   "id": "d5ce19a8",
   "metadata": {},
   "outputs": [],
   "source": [
    "#初始化目标张量，形状为1x2\n",
    "y = torch.zeros(1, 2)"
   ]
  },
  {
   "cell_type": "code",
   "execution_count": 139,
   "id": "7d4ba2e5",
   "metadata": {},
   "outputs": [
    {
     "data": {
      "text/plain": [
       "tensor([[0., 0.]])"
      ]
     },
     "execution_count": 139,
     "metadata": {},
     "output_type": "execute_result"
    }
   ],
   "source": [
    "y"
   ]
  },
  {
   "cell_type": "code",
   "execution_count": 140,
   "id": "8bea57f6",
   "metadata": {},
   "outputs": [],
   "source": [
    "#定义y与x之间的映射关系：\n",
    "#y1=x1**2+3*x2，y2=x2**2+2*x1\n",
    "y[0, 0] = x[0, 0] ** 2 + 3 * x[0 ,1]\n",
    "y[0, 1] = x[0, 1] ** 2 + 2 * x[0, 0]"
   ]
  },
  {
   "cell_type": "code",
   "execution_count": 141,
   "id": "e04dc74d",
   "metadata": {},
   "outputs": [
    {
     "data": {
      "text/plain": [
       "tensor([[13., 13.]], grad_fn=<CopySlices>)"
      ]
     },
     "execution_count": 141,
     "metadata": {},
     "output_type": "execute_result"
    }
   ],
   "source": [
    "y"
   ]
  },
  {
   "cell_type": "markdown",
   "id": "eb55fcd9",
   "metadata": {},
   "source": [
    "### 调用backward获取y对x的梯度"
   ]
  },
  {
   "cell_type": "raw",
   "id": "94e51fb8",
   "metadata": {},
   "source": [
    "y.backward(torch.Tensor([[1, 1]]),retain_graph=True)\n",
    "x.grad\n",
    "#结果为tensor([[6., 9.]])"
   ]
  },
  {
   "cell_type": "code",
   "execution_count": 142,
   "id": "19752f57",
   "metadata": {},
   "outputs": [
    {
     "name": "stdout",
     "output_type": "stream",
     "text": [
      "tensor([[4., 3.],\n",
      "        [2., 6.]])\n"
     ]
    }
   ],
   "source": [
    "#生成y1对x的梯度\n",
    "y.backward(torch.Tensor([[1, 0]]),retain_graph=True)\n",
    "J[0]=x.grad\n",
    "#梯度是累加的，故需要对x的梯度清零\n",
    "x.grad = torch.zeros_like(x.grad)\n",
    "\n",
    "#生成y2对x的梯度\n",
    "y.backward(torch.Tensor([[0, 1]]))\n",
    "\n",
    "J[1]=x.grad\n",
    "#显示jacobian矩阵的值\n",
    "print(J)"
   ]
  },
  {
   "cell_type": "markdown",
   "id": "13e85b79",
   "metadata": {},
   "source": [
    "# 使用Numpy实现机器学习"
   ]
  },
  {
   "cell_type": "markdown",
   "id": "1b1b932c",
   "metadata": {},
   "source": [
    "## 导入需要的库"
   ]
  },
  {
   "cell_type": "code",
   "execution_count": 2,
   "id": "e47cbf43",
   "metadata": {},
   "outputs": [],
   "source": [
    "import numpy as np\n",
    "%matplotlib inline\n",
    " \n",
    "from matplotlib import pyplot as plt"
   ]
  },
  {
   "cell_type": "markdown",
   "id": "f0d04328",
   "metadata": {},
   "source": [
    "## 生成输入数据x及目标数据y"
   ]
  },
  {
   "cell_type": "markdown",
   "id": "ec496b29",
   "metadata": {},
   "source": [
    "### 设置随机数种子，生成同一个份数据，以便用多种方法进行比较。"
   ]
  },
  {
   "cell_type": "code",
   "execution_count": 3,
   "id": "b3a03858",
   "metadata": {},
   "outputs": [],
   "source": [
    "np.random.seed(100) \n",
    "x = np.linspace(-1, 1, 100).reshape(100,1) \n",
    "y = 3*np.power(x, 2) +2+ 0.2*np.random.rand(x.size).reshape(100,1) "
   ]
  },
  {
   "cell_type": "code",
   "execution_count": 4,
   "id": "a1072980",
   "metadata": {
    "collapsed": true
   },
   "outputs": [
    {
     "data": {
      "text/plain": [
       "array([[-1.        ],\n",
       "       [-0.97979798],\n",
       "       [-0.95959596],\n",
       "       [-0.93939394],\n",
       "       [-0.91919192],\n",
       "       [-0.8989899 ],\n",
       "       [-0.87878788],\n",
       "       [-0.85858586],\n",
       "       [-0.83838384],\n",
       "       [-0.81818182],\n",
       "       [-0.7979798 ],\n",
       "       [-0.77777778],\n",
       "       [-0.75757576],\n",
       "       [-0.73737374],\n",
       "       [-0.71717172],\n",
       "       [-0.6969697 ],\n",
       "       [-0.67676768],\n",
       "       [-0.65656566],\n",
       "       [-0.63636364],\n",
       "       [-0.61616162],\n",
       "       [-0.5959596 ],\n",
       "       [-0.57575758],\n",
       "       [-0.55555556],\n",
       "       [-0.53535354],\n",
       "       [-0.51515152],\n",
       "       [-0.49494949],\n",
       "       [-0.47474747],\n",
       "       [-0.45454545],\n",
       "       [-0.43434343],\n",
       "       [-0.41414141],\n",
       "       [-0.39393939],\n",
       "       [-0.37373737],\n",
       "       [-0.35353535],\n",
       "       [-0.33333333],\n",
       "       [-0.31313131],\n",
       "       [-0.29292929],\n",
       "       [-0.27272727],\n",
       "       [-0.25252525],\n",
       "       [-0.23232323],\n",
       "       [-0.21212121],\n",
       "       [-0.19191919],\n",
       "       [-0.17171717],\n",
       "       [-0.15151515],\n",
       "       [-0.13131313],\n",
       "       [-0.11111111],\n",
       "       [-0.09090909],\n",
       "       [-0.07070707],\n",
       "       [-0.05050505],\n",
       "       [-0.03030303],\n",
       "       [-0.01010101],\n",
       "       [ 0.01010101],\n",
       "       [ 0.03030303],\n",
       "       [ 0.05050505],\n",
       "       [ 0.07070707],\n",
       "       [ 0.09090909],\n",
       "       [ 0.11111111],\n",
       "       [ 0.13131313],\n",
       "       [ 0.15151515],\n",
       "       [ 0.17171717],\n",
       "       [ 0.19191919],\n",
       "       [ 0.21212121],\n",
       "       [ 0.23232323],\n",
       "       [ 0.25252525],\n",
       "       [ 0.27272727],\n",
       "       [ 0.29292929],\n",
       "       [ 0.31313131],\n",
       "       [ 0.33333333],\n",
       "       [ 0.35353535],\n",
       "       [ 0.37373737],\n",
       "       [ 0.39393939],\n",
       "       [ 0.41414141],\n",
       "       [ 0.43434343],\n",
       "       [ 0.45454545],\n",
       "       [ 0.47474747],\n",
       "       [ 0.49494949],\n",
       "       [ 0.51515152],\n",
       "       [ 0.53535354],\n",
       "       [ 0.55555556],\n",
       "       [ 0.57575758],\n",
       "       [ 0.5959596 ],\n",
       "       [ 0.61616162],\n",
       "       [ 0.63636364],\n",
       "       [ 0.65656566],\n",
       "       [ 0.67676768],\n",
       "       [ 0.6969697 ],\n",
       "       [ 0.71717172],\n",
       "       [ 0.73737374],\n",
       "       [ 0.75757576],\n",
       "       [ 0.77777778],\n",
       "       [ 0.7979798 ],\n",
       "       [ 0.81818182],\n",
       "       [ 0.83838384],\n",
       "       [ 0.85858586],\n",
       "       [ 0.87878788],\n",
       "       [ 0.8989899 ],\n",
       "       [ 0.91919192],\n",
       "       [ 0.93939394],\n",
       "       [ 0.95959596],\n",
       "       [ 0.97979798],\n",
       "       [ 1.        ]])"
      ]
     },
     "execution_count": 4,
     "metadata": {},
     "output_type": "execute_result"
    }
   ],
   "source": [
    "x"
   ]
  },
  {
   "cell_type": "code",
   "execution_count": 5,
   "id": "0314e270",
   "metadata": {
    "collapsed": true
   },
   "outputs": [
    {
     "data": {
      "text/plain": [
       "array([[5.10868099],\n",
       "       [4.93568612],\n",
       "       [4.84737674],\n",
       "       [4.81633815],\n",
       "       [4.53568512],\n",
       "       [4.44886234],\n",
       "       [4.45095422],\n",
       "       [4.37667958],\n",
       "       [4.1360037 ],\n",
       "       [4.12328313],\n",
       "       [4.08857966],\n",
       "       [3.85665524],\n",
       "       [3.75882873],\n",
       "       [3.65283546],\n",
       "       [3.58694531],\n",
       "       [3.65302503],\n",
       "       [3.53638009],\n",
       "       [3.32762359],\n",
       "       [3.37812098],\n",
       "       [3.19378016],\n",
       "       [3.15184436],\n",
       "       [3.18249632],\n",
       "       [3.0894558 ],\n",
       "       [2.92703261],\n",
       "       [2.83122534],\n",
       "       [2.80949142],\n",
       "       [2.6772932 ],\n",
       "       [2.67031998],\n",
       "       [2.72509516],\n",
       "       [2.51759033],\n",
       "       [2.58533341],\n",
       "       [2.53979978],\n",
       "       [2.39599128],\n",
       "       [2.40972202],\n",
       "       [2.30144887],\n",
       "       [2.43550502],\n",
       "       [2.41932467],\n",
       "       [2.20329541],\n",
       "       [2.34003144],\n",
       "       [2.25036653],\n",
       "       [2.25899487],\n",
       "       [2.21449715],\n",
       "       [2.18523896],\n",
       "       [2.05581724],\n",
       "       [2.07904235],\n",
       "       [2.13373036],\n",
       "       [2.1688215 ],\n",
       "       [2.05779133],\n",
       "       [2.05993396],\n",
       "       [2.17078511],\n",
       "       [2.19530739],\n",
       "       [2.17972548],\n",
       "       [2.07955385],\n",
       "       [2.13477026],\n",
       "       [2.09575251],\n",
       "       [2.10507508],\n",
       "       [2.08734561],\n",
       "       [2.11640937],\n",
       "       [2.09743282],\n",
       "       [2.21158521],\n",
       "       [2.21023672],\n",
       "       [2.28048333],\n",
       "       [2.31729538],\n",
       "       [2.25166056],\n",
       "       [2.44419097],\n",
       "       [2.48342963],\n",
       "       [2.45379266],\n",
       "       [2.45251499],\n",
       "       [2.49167647],\n",
       "       [2.50643379],\n",
       "       [2.56989235],\n",
       "       [2.61526983],\n",
       "       [2.65455631],\n",
       "       [2.86947743],\n",
       "       [2.92632753],\n",
       "       [2.91573799],\n",
       "       [3.00607037],\n",
       "       [2.99400297],\n",
       "       [3.01290148],\n",
       "       [3.15820312],\n",
       "       [3.24070519],\n",
       "       [3.23256807],\n",
       "       [3.39884243],\n",
       "       [3.57247507],\n",
       "       [3.53630746],\n",
       "       [3.6101251 ],\n",
       "       [3.79225019],\n",
       "       [3.87263288],\n",
       "       [3.8774281 ],\n",
       "       [4.03712261],\n",
       "       [4.11634538],\n",
       "       [4.16802113],\n",
       "       [4.23366661],\n",
       "       [4.37933247],\n",
       "       [4.51594434],\n",
       "       [4.66652937],\n",
       "       [4.69823442],\n",
       "       [4.89069347],\n",
       "       [4.92003697],\n",
       "       [5.13152496]])"
      ]
     },
     "execution_count": 5,
     "metadata": {},
     "output_type": "execute_result"
    }
   ],
   "source": [
    "y"
   ]
  },
  {
   "cell_type": "markdown",
   "id": "aef24452",
   "metadata": {},
   "source": [
    "### 查看x，y数据分布情况"
   ]
  },
  {
   "cell_type": "code",
   "execution_count": 6,
   "id": "f512af7b",
   "metadata": {},
   "outputs": [
    {
     "data": {
      "image/png": "[encoded data removed]",
      "text/plain": [
       "<Figure size 432x288 with 1 Axes>"
      ]
     },
     "metadata": {
      "needs_background": "light"
     },
     "output_type": "display_data"
    }
   ],
   "source": [
    "# 画图\n",
    "plt.scatter(x, y)\n",
    "plt.show()"
   ]
  },
  {
   "cell_type": "markdown",
   "id": "e2122176",
   "metadata": {},
   "source": [
    "### 初始化权重参数"
   ]
  },
  {
   "cell_type": "code",
   "execution_count": 7,
   "id": "a622070a",
   "metadata": {},
   "outputs": [],
   "source": [
    "# 随机初始化参数\n",
    "w1 = np.random.rand(1,1)\n",
    "b1 = np.random.rand(1,1) "
   ]
  },
  {
   "cell_type": "markdown",
   "id": "712bf14c",
   "metadata": {},
   "source": [
    "### 训练模型"
   ]
  },
  {
   "cell_type": "code",
   "execution_count": 8,
   "id": "e1fdc7c3",
   "metadata": {},
   "outputs": [],
   "source": [
    "lr =0.001 # 学习率\n",
    " \n",
    "for i in range(800):\n",
    "    # 前向传播\n",
    "    y_pred = np.power(x,2)*w1 + b1\n",
    "    # 定义损失函数\n",
    "    loss = 0.5 * (y_pred - y) ** 2\n",
    "    loss = loss.sum()\n",
    "    #计算梯度\n",
    "    grad_w=np.sum((y_pred - y)*np.power(x,2))\n",
    "    grad_b=np.sum((y_pred - y))\n",
    "    #使用梯度下降法，是loss最小\n",
    "    w1 -= lr * grad_w\n",
    "    b1 -= lr * grad_b"
   ]
  },
  {
   "cell_type": "markdown",
   "id": "ddd7e541",
   "metadata": {},
   "source": [
    "### 可视化结果"
   ]
  },
  {
   "cell_type": "code",
   "execution_count": 9,
   "id": "92df073c",
   "metadata": {},
   "outputs": [
    {
     "data": {
      "image/png": "[encoded data removed]",
      "text/plain": [
       "<Figure size 432x288 with 1 Axes>"
      ]
     },
     "metadata": {
      "needs_background": "light"
     },
     "output_type": "display_data"
    },
    {
     "name": "stdout",
     "output_type": "stream",
     "text": [
      "[[2.98927619]] [[2.09818307]]\n"
     ]
    }
   ],
   "source": [
    "plt.plot(x, y_pred,'r-',label='predict')\n",
    "plt.scatter(x, y,color='blue',marker='o',label='true') # true data\n",
    "plt.xlim(-1,1)\n",
    "plt.ylim(2,6)  \n",
    "plt.legend()\n",
    "plt.show()\n",
    "print(w1,b1)"
   ]
  },
  {
   "cell_type": "markdown",
   "id": "f073403f",
   "metadata": {},
   "source": [
    "## 使用 Tensor 及 antograd 实现机器学习"
   ]
  },
  {
   "cell_type": "markdown",
   "id": "2a2b5181",
   "metadata": {},
   "source": [
    "### 导入需要的库"
   ]
  },
  {
   "cell_type": "code",
   "execution_count": 17,
   "id": "ff223cf7",
   "metadata": {},
   "outputs": [],
   "source": [
    "import torch as t\n",
    "\n",
    "from matplotlib import pyplot as plt"
   ]
  },
  {
   "cell_type": "markdown",
   "id": "9ccbc1d3",
   "metadata": {},
   "source": [
    "### 生成训练数据，并可视化数据分布情况"
   ]
  },
  {
   "cell_type": "code",
   "execution_count": 18,
   "id": "640ef0ef",
   "metadata": {},
   "outputs": [
    {
     "data": {
      "image/png": "[encoded data removed]",
      "text/plain": [
       "<Figure size 432x288 with 1 Axes>"
      ]
     },
     "metadata": {
      "needs_background": "light"
     },
     "output_type": "display_data"
    }
   ],
   "source": [
    "t.manual_seed(100) \n",
    "dtype = t.float\n",
    "#生成x坐标数据，x为tenor，需要把x的形状转换为100x1\n",
    "x = t.unsqueeze(t.linspace(-1, 1, 100), dim=1) \n",
    "#生成y坐标数据，y为tenor，形状为100x1，另加上一些噪音\n",
    "y = 3*x.pow(2) +2+ 0.2*t.rand(x.size())                 \n",
    " \n",
    "# 画图，把tensor数据转换为numpy数据\n",
    "plt.scatter(x.numpy(), y.numpy())\n",
    "plt.show()"
   ]
  },
  {
   "cell_type": "markdown",
   "id": "5e15e40c",
   "metadata": {},
   "source": [
    "### 初始化权重参数"
   ]
  },
  {
   "cell_type": "code",
   "execution_count": 19,
   "id": "43f1258f",
   "metadata": {},
   "outputs": [],
   "source": [
    "# 随机初始化参数，参数w，b为需要学习的，故需requires_grad=True\n",
    "w = t.randn(1,1, dtype=dtype,requires_grad=True)\n",
    "b = t.zeros(1,1, dtype=dtype, requires_grad=True)"
   ]
  },
  {
   "cell_type": "markdown",
   "id": "d4dd2cfd",
   "metadata": {},
   "source": [
    "### 训练模型"
   ]
  },
  {
   "cell_type": "code",
   "execution_count": 20,
   "id": "4848b2eb",
   "metadata": {},
   "outputs": [],
   "source": [
    "lr =0.001 # 学习率\n",
    " \n",
    "for ii in range(800):\n",
    "    # 前向传播，并定义损失函数loss\n",
    "    y_pred = x.pow(2).mm(w) + b\n",
    "    loss = 0.5 * (y_pred - y) ** 2\n",
    "    loss = loss.sum()\n",
    "    \n",
    "    # 自动计算梯度，梯度存放在grad属性中\n",
    "    loss.backward()\n",
    "    \n",
    "    # 手动更新参数，需要用torch.no_grad()，使上下文环境中切断自动求导的计算\n",
    "    with t.no_grad():\n",
    "        w -= lr * w.grad\n",
    "        b -= lr * b.grad\n",
    "    \n",
    "    # 梯度清零\n",
    "        w.grad.zero_()\n",
    "        b.grad.zero_()"
   ]
  },
  {
   "cell_type": "markdown",
   "id": "9718104b",
   "metadata": {},
   "source": [
    "### 可视化训练结果"
   ]
  },
  {
   "cell_type": "code",
   "execution_count": 21,
   "id": "31cd791c",
   "metadata": {},
   "outputs": [
    {
     "data": {
      "image/png": "[encoded data removed]",
      "text/plain": [
       "<Figure size 432x288 with 1 Axes>"
      ]
     },
     "metadata": {
      "needs_background": "light"
     },
     "output_type": "display_data"
    },
    {
     "name": "stdout",
     "output_type": "stream",
     "text": [
      "tensor([[2.9645]], requires_grad=True) tensor([[2.1146]], requires_grad=True)\n"
     ]
    }
   ],
   "source": [
    "plt.plot(x.numpy(), y_pred.detach().numpy(),'r-',label='predict')#predict\n",
    "plt.scatter(x.numpy(), y.numpy(),color='blue',marker='o',label='true') # true data\n",
    "plt.xlim(-1,1)\n",
    "plt.ylim(2,6)  \n",
    "plt.legend()\n",
    "plt.show()\n",
    "        \n",
    "print(w, b)"
   ]
  },
  {
   "cell_type": "code",
   "execution_count": null,
   "id": "1e8c82db",
   "metadata": {},
   "outputs": [],
   "source": []
  }
 ],
 "metadata": {
  "kernelspec": {
   "display_name": "Python [conda env:pytorch] *",
   "language": "python",
   "name": "conda-env-pytorch-py"
  },
  "language_info": {
   "codemirror_mode": {
    "name": "ipython",
    "version": 3
   },
   "file_extension": ".py",
   "mimetype": "text/x-python",
   "name": "python",
   "nbconvert_exporter": "python",
   "pygments_lexer": "ipython3",
   "version": "3.8.12"
  }
 },
 "nbformat": 4,
 "nbformat_minor": 5
}
