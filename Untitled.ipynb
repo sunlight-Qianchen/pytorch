{
 "cells": [
  {
   "cell_type": "code",
   "execution_count": 1,
   "id": "d91c6c2e",
   "metadata": {},
   "outputs": [],
   "source": [
    "import os\n",
    "os.environ['KMP_DUPLICATE_LIB_OK'] = 'TRUE'"
   ]
  },
  {
   "cell_type": "code",
   "execution_count": 2,
   "id": "27bdd76a",
   "metadata": {},
   "outputs": [],
   "source": [
    "import numpy as np\n",
    "import torch\n",
    "\n",
    "# 导入 pytorch 内置的 mnist 数据\n",
    "from torchvision.datasets import mnist \n",
    "\n",
    "#导入预处理模块\n",
    "import torchvision.transforms as transforms\n",
    "from torch.utils.data import DataLoader\n",
    "\n",
    "#导入nn及优化器\n",
    "import torch.nn.functional as F\n",
    "import torch.optim as optim\n",
    "from torch import nn\n",
    "\n",
    "import matplotlib.pyplot as plt"
   ]
  },
  {
   "cell_type": "code",
   "execution_count": 3,
   "id": "2b922c40",
   "metadata": {},
   "outputs": [],
   "source": [
    "# 定义一些超参数\n",
    "train_batch_size = 64\n",
    "test_batch_size = 128\n",
    "learning_rate = 0.01\n",
    "num_epoches = 20\n",
    "lr = 0.01\n",
    "momentum = 0.5"
   ]
  },
  {
   "cell_type": "code",
   "execution_count": 4,
   "id": "ba4e8930",
   "metadata": {},
   "outputs": [],
   "source": [
    "#定义预处理函数，这些预处理依次放在Compose函数中。\n",
    "transform = transforms.Compose([transforms.ToTensor(),transforms.Normalize([0.5], [0.5])])\n",
    "\n",
    "#下载数据，并对数据进行预处理\n",
    "train_dataset = mnist.MNIST('G:\\\\work\\\\coding\\\\python\\\\pytorch\\\\data\\\\MNIST\\\\raw', train=True, transform=transform, download=False)\n",
    "test_dataset = mnist.MNIST('G:\\\\work\\\\coding\\\\python\\\\pytorch\\\\data\\\\MNIST\\\\raw', train=False, transform=transform)\n",
    "\n",
    "#dataloader是一个可迭代对象，可以使用迭代器一样使用。\n",
    "train_loader = DataLoader(train_dataset, batch_size=train_batch_size, shuffle=True)\n",
    "test_loader = DataLoader(test_dataset, batch_size=test_batch_size, shuffle=False)"
   ]
  },
  {
   "cell_type": "code",
   "execution_count": 5,
   "id": "48710bc3",
   "metadata": {},
   "outputs": [
    {
     "data": {
      "image/png": "[encoded data removed]",
      "text/plain": [
       "<Figure size 432x288 with 6 Axes>"
      ]
     },
     "metadata": {},
     "output_type": "display_data"
    }
   ],
   "source": [
    "examples = enumerate(test_loader)\n",
    "batch_idx, (example_data, example_targets) = next(examples)\n",
    " \n",
    "fig = plt.figure()\n",
    "for i in range(6):\n",
    "  plt.subplot(2,3,i+1)\n",
    "  plt.tight_layout()\n",
    "  plt.imshow(example_data[i][0], cmap='gray', interpolation='none')\n",
    "  plt.title(\"Ground Truth: {}\".format(example_targets[i]))\n",
    "  plt.xticks([])\n",
    "  plt.yticks([])"
   ]
  },
  {
   "cell_type": "code",
   "execution_count": 6,
   "id": "8f3192aa",
   "metadata": {},
   "outputs": [],
   "source": [
    "class Net(nn.Module):\n",
    "    \"\"\"\n",
    "    使用sequential构建网络，Sequential()函数的功能是将网络的层组合到一起\n",
    "    \"\"\"\n",
    "    def __init__(self, in_dim, n_hidden_1, n_hidden_2, out_dim):\n",
    "        super(Net, self).__init__()\n",
    "        self.layer1 = nn.Sequential(nn.Linear(in_dim, n_hidden_1),nn.BatchNorm1d(n_hidden_1))\n",
    "        self.layer2 = nn.Sequential(nn.Linear(n_hidden_1, n_hidden_2),nn.BatchNorm1d(n_hidden_2))\n",
    "        self.layer3 = nn.Sequential(nn.Linear(n_hidden_2, out_dim))\n",
    "        \n",
    " \n",
    "    def forward(self, x):\n",
    "        x = F.relu(self.layer1(x))\n",
    "        x = F.relu(self.layer2(x))\n",
    "        x = self.layer3(x)\n",
    "        return x"
   ]
  },
  {
   "cell_type": "code",
   "execution_count": 8,
   "id": "a58a6d12",
   "metadata": {},
   "outputs": [],
   "source": [
    "#检测是否有可用的GPU，有则使用，否则使用CPU\n",
    "device = torch.device(\"cuda:0\" if torch.cuda.is_available() else \"cpu\")"
   ]
  },
  {
   "cell_type": "code",
   "execution_count": 9,
   "id": "0e47f3d2",
   "metadata": {},
   "outputs": [
    {
     "data": {
      "text/plain": [
       "device(type='cuda', index=0)"
      ]
     },
     "execution_count": 9,
     "metadata": {},
     "output_type": "execute_result"
    }
   ],
   "source": [
    "device"
   ]
  },
  {
   "cell_type": "code",
   "execution_count": 10,
   "id": "bee89117",
   "metadata": {},
   "outputs": [],
   "source": [
    "#实例化网络\n",
    "model = Net(28 * 28, 300, 100, 10)\n",
    "model.to(device)\n",
    " \n",
    "# 定义损失函数和优化器\n",
    "criterion = nn.CrossEntropyLoss()\n",
    "optimizer = optim.SGD(model.parameters(), lr=lr, momentum=momentum)"
   ]
  },
  {
   "cell_type": "code",
   "execution_count": 11,
   "id": "13b04fa8",
   "metadata": {},
   "outputs": [
    {
     "name": "stdout",
     "output_type": "stream",
     "text": [
      "epoch: 0, Train Loss: 0.9856, Train Acc: 0.7976, Test Loss: 0.5321, Test Acc: 0.9022\n",
      "epoch: 1, Train Loss: 0.4689, Train Acc: 0.9000, Test Loss: 0.3457, Test Acc: 0.9259\n",
      "epoch: 2, Train Loss: 0.3419, Train Acc: 0.9202, Test Loss: 0.2660, Test Acc: 0.9378\n",
      "epoch: 3, Train Loss: 0.2813, Train Acc: 0.9323, Test Loss: 0.2255, Test Acc: 0.9445\n",
      "epoch: 4, Train Loss: 0.2396, Train Acc: 0.9409, Test Loss: 0.1957, Test Acc: 0.9501\n",
      "epoch: 5, Train Loss: 0.2207, Train Acc: 0.9455, Test Loss: 0.1914, Test Acc: 0.9501\n",
      "epoch: 6, Train Loss: 0.2176, Train Acc: 0.9465, Test Loss: 0.1906, Test Acc: 0.9507\n",
      "epoch: 7, Train Loss: 0.2135, Train Acc: 0.9472, Test Loss: 0.1892, Test Acc: 0.9515\n",
      "epoch: 8, Train Loss: 0.2131, Train Acc: 0.9473, Test Loss: 0.1871, Test Acc: 0.9534\n",
      "epoch: 9, Train Loss: 0.2089, Train Acc: 0.9489, Test Loss: 0.1834, Test Acc: 0.9532\n",
      "epoch: 10, Train Loss: 0.2066, Train Acc: 0.9495, Test Loss: 0.1860, Test Acc: 0.9536\n",
      "epoch: 11, Train Loss: 0.2059, Train Acc: 0.9492, Test Loss: 0.1833, Test Acc: 0.9523\n",
      "epoch: 12, Train Loss: 0.2058, Train Acc: 0.9492, Test Loss: 0.1844, Test Acc: 0.9525\n",
      "epoch: 13, Train Loss: 0.2054, Train Acc: 0.9495, Test Loss: 0.1828, Test Acc: 0.9531\n",
      "epoch: 14, Train Loss: 0.2046, Train Acc: 0.9494, Test Loss: 0.1831, Test Acc: 0.9513\n",
      "epoch: 15, Train Loss: 0.2061, Train Acc: 0.9491, Test Loss: 0.1837, Test Acc: 0.9519\n",
      "epoch: 16, Train Loss: 0.2047, Train Acc: 0.9498, Test Loss: 0.1824, Test Acc: 0.9533\n",
      "epoch: 17, Train Loss: 0.2047, Train Acc: 0.9492, Test Loss: 0.1823, Test Acc: 0.9511\n",
      "epoch: 18, Train Loss: 0.2060, Train Acc: 0.9491, Test Loss: 0.1827, Test Acc: 0.9521\n",
      "epoch: 19, Train Loss: 0.2061, Train Acc: 0.9489, Test Loss: 0.1819, Test Acc: 0.9523\n"
     ]
    }
   ],
   "source": [
    "# 开始训练\n",
    "losses = []\n",
    "acces = []\n",
    "eval_losses = []\n",
    "eval_acces = []\n",
    " \n",
    " \n",
    "for epoch in range(num_epoches):\n",
    "    train_loss = 0\n",
    "    train_acc = 0\n",
    "    model.train()\n",
    "    #动态修改参数学习率\n",
    "    if epoch%5==0:\n",
    "        optimizer.param_groups[0]['lr']*=0.1\n",
    "    for img, label in train_loader:\n",
    "        img=img.to(device)\n",
    "        label = label.to(device)\n",
    "        img = img.view(img.size(0), -1)\n",
    "        # 前向传播\n",
    "        out = model(img)\n",
    "        loss = criterion(out, label)\n",
    "        # 反向传播\n",
    "        optimizer.zero_grad()\n",
    "        loss.backward()\n",
    "        optimizer.step()\n",
    "        # 记录误差\n",
    "        train_loss += loss.item()\n",
    "        # 计算分类的准确率\n",
    "        _, pred = out.max(1)\n",
    "        num_correct = (pred == label).sum().item()\n",
    "        acc = num_correct / img.shape[0]\n",
    "        train_acc += acc\n",
    "        \n",
    "    losses.append(train_loss / len(train_loader))\n",
    "    acces.append(train_acc / len(train_loader))\n",
    "    # 在测试集上检验效果\n",
    "    eval_loss = 0\n",
    "    eval_acc = 0\n",
    "    # 将模型改为预测模式\n",
    "    model.eval()\n",
    "    for img, label in test_loader:\n",
    "        img=img.to(device)\n",
    "        label = label.to(device)\n",
    "        img = img.view(img.size(0), -1)\n",
    "        out = model(img)\n",
    "        loss = criterion(out, label)\n",
    "        # 记录误差\n",
    "        eval_loss += loss.item()\n",
    "        # 记录准确率\n",
    "        _, pred = out.max(1)\n",
    "        num_correct = (pred == label).sum().item()\n",
    "        acc = num_correct / img.shape[0]\n",
    "        eval_acc += acc\n",
    "        \n",
    "    eval_losses.append(eval_loss / len(test_loader))\n",
    "    eval_acces.append(eval_acc / len(test_loader))\n",
    "    print('epoch: {}, Train Loss: {:.4f}, Train Acc: {:.4f}, Test Loss: {:.4f}, Test Acc: {:.4f}'\n",
    "          .format(epoch, train_loss / len(train_loader), train_acc / len(train_loader), \n",
    "                     eval_loss / len(test_loader), eval_acc / len(test_loader)))"
   ]
  },
  {
   "cell_type": "code",
   "execution_count": 12,
   "id": "dd165531",
   "metadata": {},
   "outputs": [
    {
     "data": {
      "text/plain": [
       "<matplotlib.legend.Legend at 0x17716dee040>"
      ]
     },
     "execution_count": 12,
     "metadata": {},
     "output_type": "execute_result"
    },
    {
     "data": {
      "image/png": "[encoded data removed]",
      "text/plain": [
       "<Figure size 432x288 with 1 Axes>"
      ]
     },
     "metadata": {
      "needs_background": "light"
     },
     "output_type": "display_data"
    }
   ],
   "source": [
    "plt.title('train loss')\n",
    "plt.plot(np.arange(len(losses)), losses)\n",
    "plt.legend(['Train Loss'], loc='upper right')"
   ]
  },
  {
   "cell_type": "markdown",
   "id": "832eb87b",
   "metadata": {},
   "source": [
    "# 优化器比较"
   ]
  },
  {
   "cell_type": "code",
   "execution_count": 13,
   "id": "33b3701a",
   "metadata": {},
   "outputs": [],
   "source": [
    "import torch\n",
    "import torch.utils.data as Data\n",
    "import torch.nn.functional as F\n",
    "import matplotlib.pyplot as plt\n",
    "%matplotlib inline\n",
    " \n",
    " \n",
    "# 超参数\n",
    "LR = 0.01\n",
    "BATCH_SIZE = 32\n",
    "EPOCH = 12"
   ]
  },
  {
   "cell_type": "code",
   "execution_count": 14,
   "id": "9421c426",
   "metadata": {},
   "outputs": [],
   "source": [
    "# 生成训练数据\n",
    "# torch.unsqueeze() 的作用是将一维变二维，torch只能处理二维的数据\n",
    "x = torch.unsqueeze(torch.linspace(-1, 1, 1000), dim=1)  \n",
    "# 0.1 * torch.normal(x.size())增加噪点\n",
    "y = x.pow(2) + 0.1 * torch.normal(torch.zeros(*x.size()))\n",
    " \n",
    "torch_dataset = Data.TensorDataset(x,y)\n",
    "#得到一个代批量的生成器\n",
    "loader = Data.DataLoader(dataset=torch_dataset, batch_size=BATCH_SIZE, shuffle=True)"
   ]
  },
  {
   "cell_type": "code",
   "execution_count": 15,
   "id": "87094127",
   "metadata": {},
   "outputs": [],
   "source": [
    "class Net(torch.nn.Module):\n",
    "    # 初始化\n",
    "    def __init__(self):\n",
    "        super(Net, self).__init__()\n",
    "        self.hidden = torch.nn.Linear(1, 20)\n",
    "        self.predict = torch.nn.Linear(20, 1)\n",
    " \n",
    "    # 前向传递\n",
    "    def forward(self, x):\n",
    "        x = F.relu(self.hidden(x))\n",
    "        x = self.predict(x)\n",
    "        return x"
   ]
  },
  {
   "cell_type": "code",
   "execution_count": 16,
   "id": "1c966c4a",
   "metadata": {},
   "outputs": [],
   "source": [
    "net_SGD = Net()\n",
    "net_Momentum = Net()\n",
    "net_RMSProp = Net()\n",
    "net_Adam = Net()\n",
    " \n",
    "nets = [net_SGD, net_Momentum, net_RMSProp, net_Adam]\n",
    " \n",
    "opt_SGD = torch.optim.SGD(net_SGD.parameters(), lr=LR)\n",
    "opt_Momentum = torch.optim.SGD(net_Momentum.parameters(), lr=LR, momentum=0.9)\n",
    "opt_RMSProp = torch.optim.RMSprop(net_RMSProp.parameters(), lr=LR, alpha=0.9)\n",
    "opt_Adam = torch.optim.Adam(net_Adam.parameters(), lr=LR, betas=(0.9, 0.99))\n",
    "optimizers = [opt_SGD, opt_Momentum, opt_RMSProp, opt_Adam]"
   ]
  },
  {
   "cell_type": "code",
   "execution_count": 17,
   "id": "1a9d9964",
   "metadata": {},
   "outputs": [],
   "source": [
    "loss_func = torch.nn.MSELoss() \n",
    "loss_his = [[], [], [], []]  # 记录损失 \n",
    "for epoch in range(EPOCH):\n",
    "    for step, (batch_x, batch_y) in enumerate(loader):\n",
    "        for net, opt,l_his in zip(nets, optimizers, loss_his):\n",
    "            output = net(batch_x)  # get output for every net\n",
    "            loss = loss_func(output, batch_y)  # compute loss for every net\n",
    "            opt.zero_grad()  # clear gradients for next train\n",
    "            loss.backward()  # backpropagation, compute gradients\n",
    "            opt.step()  # apply gradients\n",
    "            l_his.append(loss.data.numpy())  # loss recoder\n",
    "labels = ['SGD', 'Momentum', 'RMSprop', 'Adam']"
   ]
  },
  {
   "cell_type": "code",
   "execution_count": 18,
   "id": "aaf6753b",
   "metadata": {},
   "outputs": [
    {
     "data": {
      "image/png": "[encoded data removed]",
      "text/plain": [
       "<Figure size 432x288 with 1 Axes>"
      ]
     },
     "metadata": {
      "needs_background": "light"
     },
     "output_type": "display_data"
    }
   ],
   "source": [
    "for i, l_his in enumerate(loss_his):\n",
    "    plt.plot(l_his, label=labels[i])\n",
    "plt.legend(loc='best')\n",
    "plt.xlabel('Steps')\n",
    "plt.ylabel('Loss')\n",
    "plt.ylim((0, 0.2))\n",
    "plt.show()"
   ]
  },
  {
   "cell_type": "code",
   "execution_count": null,
   "id": "10d10e8f",
   "metadata": {},
   "outputs": [],
   "source": []
  }
 ],
 "metadata": {
  "kernelspec": {
   "display_name": "Python [conda env:pytorch] *",
   "language": "python",
   "name": "conda-env-pytorch-py"
  },
  "language_info": {
   "codemirror_mode": {
    "name": "ipython",
    "version": 3
   },
   "file_extension": ".py",
   "mimetype": "text/x-python",
   "name": "python",
   "nbconvert_exporter": "python",
   "pygments_lexer": "ipython3",
   "version": "3.8.12"
  }
 },
 "nbformat": 4,
 "nbformat_minor": 5
}
